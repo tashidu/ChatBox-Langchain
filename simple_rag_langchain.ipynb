{
  "nbformat": 4,
  "nbformat_minor": 0,
  "metadata": {
    "colab": {
      "provenance": [],
      "authorship_tag": "ABX9TyMAulJM1iC6gpVcdyAgx1xo",
      "include_colab_link": true
    },
    "kernelspec": {
      "name": "python3",
      "display_name": "Python 3"
    },
    "language_info": {
      "name": "python"
    }
  },
  "cells": [
    {
      "cell_type": "markdown",
      "metadata": {
        "id": "view-in-github",
        "colab_type": "text"
      },
      "source": [
        "<a href=\"https://colab.research.google.com/github/tashidu/ChatBox-Langchain/blob/main/simple_rag_langchain.ipynb\" target=\"_parent\"><img src=\"https://colab.research.google.com/assets/colab-badge.svg\" alt=\"Open In Colab\"/></a>"
      ]
    },
    {
      "cell_type": "code",
      "execution_count": null,
      "metadata": {
        "colab": {
          "base_uri": "https://localhost:8080/"
        },
        "id": "_g8W3P76wzXi",
        "outputId": "5398a1fd-d91f-447a-ba08-e7df9d28694a"
      },
      "outputs": [
        {
          "output_type": "stream",
          "name": "stdout",
          "text": [
            "\u001b[2K   \u001b[90m━━━━━━━━━━━━━━━━━━━━━━━━━━━━━━━━━━━━━━━━\u001b[0m \u001b[32m70.6/70.6 kB\u001b[0m \u001b[31m6.1 MB/s\u001b[0m eta \u001b[36m0:00:00\u001b[0m\n",
            "\u001b[2K     \u001b[90m━━━━━━━━━━━━━━━━━━━━━━━━━━━━━━━━━━━━━━━━\u001b[0m \u001b[32m67.3/67.3 kB\u001b[0m \u001b[31m5.8 MB/s\u001b[0m eta \u001b[36m0:00:00\u001b[0m\n",
            "\u001b[?25h  Installing build dependencies ... \u001b[?25l\u001b[?25hdone\n",
            "  Getting requirements to build wheel ... \u001b[?25l\u001b[?25hdone\n",
            "  Preparing metadata (pyproject.toml) ... \u001b[?25l\u001b[?25hdone\n",
            "\u001b[2K   \u001b[90m━━━━━━━━━━━━━━━━━━━━━━━━━━━━━━━━━━━━━━━━\u001b[0m \u001b[32m19.5/19.5 MB\u001b[0m \u001b[31m96.0 MB/s\u001b[0m eta \u001b[36m0:00:00\u001b[0m\n",
            "\u001b[2K   \u001b[90m━━━━━━━━━━━━━━━━━━━━━━━━━━━━━━━━━━━━━━━━\u001b[0m \u001b[32m284.2/284.2 kB\u001b[0m \u001b[31m19.8 MB/s\u001b[0m eta \u001b[36m0:00:00\u001b[0m\n",
            "\u001b[2K   \u001b[90m━━━━━━━━━━━━━━━━━━━━━━━━━━━━━━━━━━━━━━━━\u001b[0m \u001b[32m1.9/1.9 MB\u001b[0m \u001b[31m70.9 MB/s\u001b[0m eta \u001b[36m0:00:00\u001b[0m\n",
            "\u001b[2K   \u001b[90m━━━━━━━━━━━━━━━━━━━━━━━━━━━━━━━━━━━━━━━━\u001b[0m \u001b[32m103.1/103.1 kB\u001b[0m \u001b[31m8.9 MB/s\u001b[0m eta \u001b[36m0:00:00\u001b[0m\n",
            "\u001b[2K   \u001b[90m━━━━━━━━━━━━━━━━━━━━━━━━━━━━━━━━━━━━━━━━\u001b[0m \u001b[32m16.5/16.5 MB\u001b[0m \u001b[31m94.7 MB/s\u001b[0m eta \u001b[36m0:00:00\u001b[0m\n",
            "\u001b[2K   \u001b[90m━━━━━━━━━━━━━━━━━━━━━━━━━━━━━━━━━━━━━━━━\u001b[0m \u001b[32m65.6/65.6 kB\u001b[0m \u001b[31m4.8 MB/s\u001b[0m eta \u001b[36m0:00:00\u001b[0m\n",
            "\u001b[2K   \u001b[90m━━━━━━━━━━━━━━━━━━━━━━━━━━━━━━━━━━━━━━━━\u001b[0m \u001b[32m72.5/72.5 kB\u001b[0m \u001b[31m5.6 MB/s\u001b[0m eta \u001b[36m0:00:00\u001b[0m\n",
            "\u001b[2K   \u001b[90m━━━━━━━━━━━━━━━━━━━━━━━━━━━━━━━━━━━━━━━━\u001b[0m \u001b[32m120.0/120.0 kB\u001b[0m \u001b[31m10.4 MB/s\u001b[0m eta \u001b[36m0:00:00\u001b[0m\n",
            "\u001b[2K   \u001b[90m━━━━━━━━━━━━━━━━━━━━━━━━━━━━━━━━━━━━━━━━\u001b[0m \u001b[32m201.6/201.6 kB\u001b[0m \u001b[31m16.0 MB/s\u001b[0m eta \u001b[36m0:00:00\u001b[0m\n",
            "\u001b[2K   \u001b[90m━━━━━━━━━━━━━━━━━━━━━━━━━━━━━━━━━━━━━━━━\u001b[0m \u001b[32m105.4/105.4 kB\u001b[0m \u001b[31m8.1 MB/s\u001b[0m eta \u001b[36m0:00:00\u001b[0m\n",
            "\u001b[2K   \u001b[90m━━━━━━━━━━━━━━━━━━━━━━━━━━━━━━━━━━━━━━━━\u001b[0m \u001b[32m71.4/71.4 kB\u001b[0m \u001b[31m5.8 MB/s\u001b[0m eta \u001b[36m0:00:00\u001b[0m\n",
            "\u001b[2K   \u001b[90m━━━━━━━━━━━━━━━━━━━━━━━━━━━━━━━━━━━━━━━━\u001b[0m \u001b[32m459.8/459.8 kB\u001b[0m \u001b[31m27.9 MB/s\u001b[0m eta \u001b[36m0:00:00\u001b[0m\n",
            "\u001b[2K   \u001b[90m━━━━━━━━━━━━━━━━━━━━━━━━━━━━━━━━━━━━━━━━\u001b[0m \u001b[32m4.0/4.0 MB\u001b[0m \u001b[31m81.0 MB/s\u001b[0m eta \u001b[36m0:00:00\u001b[0m\n",
            "\u001b[2K   \u001b[90m━━━━━━━━━━━━━━━━━━━━━━━━━━━━━━━━━━━━━━━━\u001b[0m \u001b[32m453.1/453.1 kB\u001b[0m \u001b[31m33.2 MB/s\u001b[0m eta \u001b[36m0:00:00\u001b[0m\n",
            "\u001b[2K   \u001b[90m━━━━━━━━━━━━━━━━━━━━━━━━━━━━━━━━━━━━━━━━\u001b[0m \u001b[32m46.0/46.0 kB\u001b[0m \u001b[31m3.7 MB/s\u001b[0m eta \u001b[36m0:00:00\u001b[0m\n",
            "\u001b[2K   \u001b[90m━━━━━━━━━━━━━━━━━━━━━━━━━━━━━━━━━━━━━━━━\u001b[0m \u001b[32m86.8/86.8 kB\u001b[0m \u001b[31m8.1 MB/s\u001b[0m eta \u001b[36m0:00:00\u001b[0m\n",
            "\u001b[?25h  Building wheel for pypika (pyproject.toml) ... \u001b[?25l\u001b[?25hdone\n"
          ]
        }
      ],
      "source": [
        "!pip install langchain -qU\n",
        "!pip install langchain-openai -qU\n",
        "!pip install langchain-chroma -qU"
      ]
    },
    {
      "cell_type": "code",
      "source": [
        "import os\n",
        "from google.colab import userdata"
      ],
      "metadata": {
        "id": "VPbOsC60xTIR"
      },
      "execution_count": null,
      "outputs": []
    },
    {
      "cell_type": "code",
      "source": [
        "from langchain_openai import ChatOpenAI\n",
        "\n",
        "os.environ['OPENAI_API_KEY'] = userdata.get(\"OPENAI_API_KEY\")\n",
        "\n",
        "llm = ChatOpenAI(model_name=\"gpt-3.5-turbo\", temperature=0)"
      ],
      "metadata": {
        "id": "Fx7wqRmuyODx"
      },
      "execution_count": 9,
      "outputs": []
    },
    {
      "cell_type": "markdown",
      "source": [
        "📐 What is an Embedding Model?\n",
        "An embedding model converts text into numerical vectors (high-dimensional arrays). These vectors represent the meaning of the text in a format that a computer can use for search, similarity comparison, and retrieval."
      ],
      "metadata": {
        "id": "8okBH402_714"
      }
    },
    {
      "cell_type": "code",
      "source": [
        "from langchain_openai  import OpenAIEmbeddings\n",
        "embedding_model = OpenAIEmbeddings( model = \"text-embedding-3-small\")"
      ],
      "metadata": {
        "id": "TKrwl0xq-hUx"
      },
      "execution_count": 10,
      "outputs": []
    },
    {
      "cell_type": "code",
      "source": [
        "from langchain_core.documents import Document\n",
        "\n",
        "documents = [\n",
        "    Document(\n",
        "        page_content=\"\"\"\n",
        "The University of Kelaniya is one of the major national universities in Sri Lanka.\n",
        "It is located in Kelaniya, near Colombo, and was officially established in 1959.\n",
        "The university is well-known for its excellence in humanities, commerce, medicine, science, and computing.\n",
        "It offers undergraduate and postgraduate programs and is a pioneer in research and innovation in Sri Lanka.\n",
        "The campus is home to over 10 faculties including the Faculty of Science, Faculty of Humanities, and Faculty of Computing & Technology.\n",
        "        \"\"\",\n",
        "        metadata={\n",
        "            \"source\": \"official_university_info\",\n",
        "            \"location\": \"Kelaniya, Sri Lanka\",\n",
        "            \"type\": \"university_overview\"\n",
        "        }\n",
        "    ),\n",
        "    Document(\n",
        "        page_content=\"\"\"\n",
        "Football, also known as soccer, is the world's most popular sport.\n",
        "It is governed by FIFA internationally, and played by over 250 million players in more than 200 countries.\n",
        "The FIFA World Cup is the most prestigious football tournament, held every four years.\n",
        "The game is known for its simplicity, excitement, and global reach.\n",
        "        \"\"\",\n",
        "        metadata={\n",
        "            \"source\": \"sports_data\",\n",
        "            \"type\": \"football_overview\"\n",
        "        }\n",
        "    ),\n",
        "    Document(\n",
        "        page_content=\"\"\"\n",
        "Cricket is a bat-and-ball game played between two teams of eleven players.\n",
        "It is especially popular in countries like India, Australia, England, and Sri Lanka.\n",
        "The three main formats of cricket are Test, One Day Internationals (ODIs), and T20s.\n",
        "Sri Lanka won the ICC Cricket World Cup in 1996 and remains a competitive team in world cricket.\n",
        "        \"\"\",\n",
        "        metadata={\n",
        "            \"source\": \"sports_data\",\n",
        "            \"type\": \"cricket_overview\"\n",
        "        }\n",
        "    ),\n",
        "    Document(\n",
        "        page_content=\"\"\"\n",
        "The Government of Sri Lanka is a democratic republic and a unitary state.\n",
        "It consists of three main branches: the Executive (President), the Legislature (Parliament), and the Judiciary.\n",
        "The President is both the head of state and the head of government.\n",
        "Sri Lanka holds regular elections and has a multi-party system.\n",
        "        \"\"\",\n",
        "        metadata={\n",
        "            \"source\": \"gov_info\",\n",
        "            \"type\": \"sri_lanka_government\"\n",
        "        }\n",
        "    )\n",
        "]\n"
      ],
      "metadata": {
        "id": "grAwK1bpAEvY"
      },
      "execution_count": 17,
      "outputs": []
    },
    {
      "cell_type": "code",
      "source": [
        "from langchain_chroma import Chroma\n",
        "\n",
        "vectorstore = Chroma.from_documents(\n",
        "    documents,\n",
        "    embedding=embedding_model,\n",
        ")"
      ],
      "metadata": {
        "id": "1yhPZgNhAwvn"
      },
      "execution_count": 20,
      "outputs": []
    },
    {
      "cell_type": "code",
      "source": [
        "results = vectorstore.similarity_search('test match')\n",
        "\n",
        "for result in results:\n",
        "  print('-----------------')\n",
        "  print(result.page_content)\n",
        "  print(result.metadata)"
      ],
      "metadata": {
        "colab": {
          "base_uri": "https://localhost:8080/"
        },
        "id": "fYJKtXNYCDKw",
        "outputId": "a19616a3-d407-4170-a3b3-79f68867b94a"
      },
      "execution_count": 21,
      "outputs": [
        {
          "output_type": "stream",
          "name": "stdout",
          "text": [
            "-----------------\n",
            "\n",
            "Cricket is a bat-and-ball game played between two teams of eleven players.\n",
            "It is especially popular in countries like India, Australia, England, and Sri Lanka.\n",
            "The three main formats of cricket are Test, One Day Internationals (ODIs), and T20s.\n",
            "Sri Lanka won the ICC Cricket World Cup in 1996 and remains a competitive team in world cricket.\n",
            "        \n",
            "{'type': 'cricket_overview', 'source': 'sports_data'}\n",
            "-----------------\n",
            "\n",
            "Football, also known as soccer, is the world's most popular sport.\n",
            "It is governed by FIFA internationally, and played by over 250 million players in more than 200 countries.\n",
            "The FIFA World Cup is the most prestigious football tournament, held every four years.\n",
            "The game is known for its simplicity, excitement, and global reach.\n",
            "        \n",
            "{'type': 'football_overview', 'source': 'sports_data'}\n",
            "-----------------\n",
            "\n",
            "The Government of Sri Lanka is a democratic republic and a unitary state.\n",
            "It consists of three main branches: the Executive (President), the Legislature (Parliament), and the Judiciary.\n",
            "The President is both the head of state and the head of government.\n",
            "Sri Lanka holds regular elections and has a multi-party system.\n",
            "        \n",
            "{'type': 'sri_lanka_government', 'source': 'gov_info'}\n",
            "-----------------\n",
            "\n",
            "The University of Kelaniya is one of the major national universities in Sri Lanka.\n",
            "It is located in Kelaniya, near Colombo, and was officially established in 1959.\n",
            "The university is well-known for its excellence in humanities, commerce, medicine, science, and computing.\n",
            "It offers undergraduate and postgraduate programs and is a pioneer in research and innovation in Sri Lanka.\n",
            "The campus is home to over 10 faculties including the Faculty of Science, Faculty of Humanities, and Faculty of Computing & Technology.\n",
            "        \n",
            "{'source': 'official_university_info', 'location': 'Kelaniya, Sri Lanka', 'type': 'university_overview'}\n"
          ]
        }
      ]
    },
    {
      "cell_type": "code",
      "source": [
        "results = vectorstore.similarity_search('iNDRUSTRI MANAGEMENT DEPARMENT')\n",
        "\n",
        "for result in results:\n",
        "  print('-----------------')\n",
        "  print(result.page_content)\n",
        "  print(result.metadata)"
      ],
      "metadata": {
        "colab": {
          "base_uri": "https://localhost:8080/"
        },
        "id": "uYFwTBb5DPmY",
        "outputId": "9bf5eb30-ff6e-4cdb-f8a0-c367b6b1aaa0"
      },
      "execution_count": 23,
      "outputs": [
        {
          "output_type": "stream",
          "name": "stdout",
          "text": [
            "-----------------\n",
            "\n",
            "The University of Kelaniya is one of the major national universities in Sri Lanka.\n",
            "It is located in Kelaniya, near Colombo, and was officially established in 1959.\n",
            "The university is well-known for its excellence in humanities, commerce, medicine, science, and computing.\n",
            "It offers undergraduate and postgraduate programs and is a pioneer in research and innovation in Sri Lanka.\n",
            "The campus is home to over 10 faculties including the Faculty of Science, Faculty of Humanities, and Faculty of Computing & Technology.\n",
            "        \n",
            "{'location': 'Kelaniya, Sri Lanka', 'source': 'official_university_info', 'type': 'university_overview'}\n",
            "-----------------\n",
            "\n",
            "The University of Kelaniya is one of the major national universities in Sri Lanka.\n",
            "It is located in Kelaniya, near Colombo, and was officially established in 1959.\n",
            "The university is well-known for its excellence in humanities, commerce, medicine, science, and computing.\n",
            "It offers undergraduate and postgraduate programs and is a pioneer in research and innovation in Sri Lanka.\n",
            "The campus is home to over 10 faculties including the Faculty of Science, Faculty of Humanities, and Faculty of Computing & Technology.\n",
            "    \n",
            "{'location': 'Kelaniya, Sri Lanka', 'source': 'official_university_info', 'type': 'university_overview'}\n",
            "-----------------\n",
            "\n",
            "Cricket is a bat-and-ball game played between two teams of eleven players.\n",
            "It is especially popular in countries like India, Australia, England, and Sri Lanka.\n",
            "The three main formats of cricket are Test, One Day Internationals (ODIs), and T20s.\n",
            "Sri Lanka won the ICC Cricket World Cup in 1996 and remains a competitive team in world cricket.\n",
            "        \n",
            "{'source': 'sports_data', 'type': 'cricket_overview'}\n",
            "-----------------\n",
            "\n",
            "The Government of Sri Lanka is a democratic republic and a unitary state.\n",
            "It consists of three main branches: the Executive (President), the Legislature (Parliament), and the Judiciary.\n",
            "The President is both the head of state and the head of government.\n",
            "Sri Lanka holds regular elections and has a multi-party system.\n",
            "        \n",
            "{'source': 'gov_info', 'type': 'sri_lanka_government'}\n"
          ]
        }
      ]
    },
    {
      "cell_type": "code",
      "source": [
        "query_embedding = embedding_model.embed_query(\"iNDUSTRI MANAGEMENT DEPARMENT\")\n",
        "query_embedding[:10]"
      ],
      "metadata": {
        "colab": {
          "base_uri": "https://localhost:8080/"
        },
        "id": "xZ5DzrYmDqJj",
        "outputId": "e288d958-58aa-4e36-9421-b8c1c8ac4a33"
      },
      "execution_count": 24,
      "outputs": [
        {
          "output_type": "execute_result",
          "data": {
            "text/plain": [
              "[-0.031069016084074974,\n",
              " 0.03892650455236435,\n",
              " 0.010279985144734383,\n",
              " -0.039120860397815704,\n",
              " -0.0022454930003732443,\n",
              " -0.004928284324705601,\n",
              " 0.03742719814181328,\n",
              " 0.016770049929618835,\n",
              " -0.04767247661948204,\n",
              " -0.023975063115358353]"
            ]
          },
          "metadata": {},
          "execution_count": 24
        }
      ]
    },
    {
      "cell_type": "code",
      "source": [
        "retriever = vectorstore.as_retriever(\n",
        "    search_type=\"similarity\",\n",
        "    search_kwargs={\"k\": 1}\n",
        ")\n",
        "\n",
        "batch_results = retriever.batch([\"test match\"])\n",
        "\n",
        "for result in batch_results:\n",
        "  print('-----------------')\n",
        "  for doc in result:\n",
        "    print(doc.page_content)\n",
        "    print(doc.metadata)"
      ],
      "metadata": {
        "colab": {
          "base_uri": "https://localhost:8080/"
        },
        "id": "qZ7xpsJfEe2N",
        "outputId": "af35f237-3cbd-4f22-be6b-c164c802d63b"
      },
      "execution_count": 26,
      "outputs": [
        {
          "output_type": "stream",
          "name": "stdout",
          "text": [
            "-----------------\n",
            "\n",
            "Cricket is a bat-and-ball game played between two teams of eleven players.\n",
            "It is especially popular in countries like India, Australia, England, and Sri Lanka.\n",
            "The three main formats of cricket are Test, One Day Internationals (ODIs), and T20s.\n",
            "Sri Lanka won the ICC Cricket World Cup in 1996 and remains a competitive team in world cricket.\n",
            "        \n",
            "{'type': 'cricket_overview', 'source': 'sports_data'}\n"
          ]
        }
      ]
    },
    {
      "cell_type": "code",
      "source": [
        "from langchain_core.prompts import PromptTemplate, ChatPromptTemplate\n",
        "from langchain_core.runnables import RunnablePassthrough\n",
        "\n",
        "message = \"\"\" Answer this question using the provided context only.\n",
        "{question}\n",
        "\n",
        "Context:\n",
        "{context}\n",
        "\"\"\"\n",
        "\n",
        "prompt = ChatPromptTemplate.from_messages(\n",
        "    [('human' , message)]\n",
        ")"
      ],
      "metadata": {
        "id": "l_X26OROGrYY"
      },
      "execution_count": 42,
      "outputs": []
    },
    {
      "cell_type": "code",
      "source": [
        "response = chain.invoke(\"University kelaniya location\")\n",
        "print(response.content)"
      ],
      "metadata": {
        "colab": {
          "base_uri": "https://localhost:8080/"
        },
        "id": "J72OatPFK8YC",
        "outputId": "1f9cb78a-ab78-444f-eaf1-d2e835910066"
      },
      "execution_count": 43,
      "outputs": [
        {
          "output_type": "stream",
          "name": "stdout",
          "text": [
            "The University of Kelaniya is located in Kelaniya, Sri Lanka.\n"
          ]
        }
      ]
    },
    {
      "cell_type": "markdown",
      "source": [],
      "metadata": {
        "id": "MN0wQ3mvLrF6"
      }
    }
  ]
}